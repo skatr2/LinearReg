{
 "cells": [
  {
   "cell_type": "code",
   "execution_count": 27,
   "metadata": {
    "collapsed": true
   },
   "outputs": [],
   "source": [
    "from sklearn import datasets\n",
    "import pandas as pd\n",
    "from sklearn.metrics import mean_squared_error\n",
    "import numpy as np\n"
   ]
  },
  {
   "cell_type": "code",
   "execution_count": 2,
   "metadata": {
    "collapsed": false,
    "scrolled": true
   },
   "outputs": [
    {
     "name": "stdout",
     "output_type": "stream",
     "text": [
      "Boston House Prices dataset\n",
      "\n",
      "Notes\n",
      "------\n",
      "Data Set Characteristics:  \n",
      "\n",
      "    :Number of Instances: 506 \n",
      "\n",
      "    :Number of Attributes: 13 numeric/categorical predictive\n",
      "    \n",
      "    :Median Value (attribute 14) is usually the target\n",
      "\n",
      "    :Attribute Information (in order):\n",
      "        - CRIM     per capita crime rate by town\n",
      "        - ZN       proportion of residential land zoned for lots over 25,000 sq.ft.\n",
      "        - INDUS    proportion of non-retail business acres per town\n",
      "        - CHAS     Charles River dummy variable (= 1 if tract bounds river; 0 otherwise)\n",
      "        - NOX      nitric oxides concentration (parts per 10 million)\n",
      "        - RM       average number of rooms per dwelling\n",
      "        - AGE      proportion of owner-occupied units built prior to 1940\n",
      "        - DIS      weighted distances to five Boston employment centres\n",
      "        - RAD      index of accessibility to radial highways\n",
      "        - TAX      full-value property-tax rate per $10,000\n",
      "        - PTRATIO  pupil-teacher ratio by town\n",
      "        - B        1000(Bk - 0.63)^2 where Bk is the proportion of blacks by town\n",
      "        - LSTAT    % lower status of the population\n",
      "        - MEDV     Median value of owner-occupied homes in $1000's\n",
      "\n",
      "    :Missing Attribute Values: None\n",
      "\n",
      "    :Creator: Harrison, D. and Rubinfeld, D.L.\n",
      "\n",
      "This is a copy of UCI ML housing dataset.\n",
      "http://archive.ics.uci.edu/ml/datasets/Housing\n",
      "\n",
      "\n",
      "This dataset was taken from the StatLib library which is maintained at Carnegie Mellon University.\n",
      "\n",
      "The Boston house-price data of Harrison, D. and Rubinfeld, D.L. 'Hedonic\n",
      "prices and the demand for clean air', J. Environ. Economics & Management,\n",
      "vol.5, 81-102, 1978.   Used in Belsley, Kuh & Welsch, 'Regression diagnostics\n",
      "...', Wiley, 1980.   N.B. Various transformations are used in the table on\n",
      "pages 244-261 of the latter.\n",
      "\n",
      "The Boston house-price data has been used in many machine learning papers that address regression\n",
      "problems.   \n",
      "     \n",
      "**References**\n",
      "\n",
      "   - Belsley, Kuh & Welsch, 'Regression diagnostics: Identifying Influential Data and Sources of Collinearity', Wiley, 1980. 244-261.\n",
      "   - Quinlan,R. (1993). Combining Instance-Based and Model-Based Learning. In Proceedings on the Tenth International Conference of Machine Learning, 236-243, University of Massachusetts, Amherst. Morgan Kaufmann.\n",
      "   - many more! (see http://archive.ics.uci.edu/ml/datasets/Housing)\n",
      "\n"
     ]
    }
   ],
   "source": [
    "bean = datasets.load_boston()\n",
    "print bean.DESCR"
   ]
  },
  {
   "cell_type": "code",
   "execution_count": 3,
   "metadata": {
    "collapsed": true
   },
   "outputs": [],
   "source": [
    "def load_boston():\n",
    "    scaler = StandardScaler()\n",
    "    boston = datasets.load_boston()\n",
    "    X=boston.data\n",
    "    y=boston.target\n",
    "    X = scaler.fit_transform(X)\n",
    "    return train_test_split(X,y)"
   ]
  },
  {
   "cell_type": "code",
   "execution_count": 4,
   "metadata": {
    "collapsed": true
   },
   "outputs": [],
   "source": [
    "X_train, X_test, y_train, y_test = load_boston()"
   ]
  },
  {
   "cell_type": "code",
   "execution_count": 5,
   "metadata": {
    "collapsed": false
   },
   "outputs": [
    {
     "data": {
      "text/plain": [
       "(379, 13)"
      ]
     },
     "execution_count": 5,
     "metadata": {},
     "output_type": "execute_result"
    }
   ],
   "source": [
    "X_train.shape"
   ]
  },
  {
   "cell_type": "code",
   "execution_count": 2,
   "metadata": {
    "collapsed": false
   },
   "outputs": [
    {
     "ename": "NameError",
     "evalue": "name 'LinearRegression' is not defined",
     "output_type": "error",
     "traceback": [
      "\u001b[1;31m---------------------------------------------------------------------------\u001b[0m",
      "\u001b[1;31mNameError\u001b[0m                                 Traceback (most recent call last)",
      "\u001b[1;32m<ipython-input-2-f553b95d969c>\u001b[0m in \u001b[0;36m<module>\u001b[1;34m()\u001b[0m\n\u001b[1;32m----> 1\u001b[1;33m \u001b[0mclf\u001b[0m \u001b[1;33m=\u001b[0m \u001b[0mLinearRegression\u001b[0m\u001b[1;33m(\u001b[0m\u001b[1;33m)\u001b[0m\u001b[1;33m\u001b[0m\u001b[0m\n\u001b[0m",
      "\u001b[1;31mNameError\u001b[0m: name 'LinearRegression' is not defined"
     ]
    }
   ],
   "source": [
    "clf = LinearRegression()"
   ]
  },
  {
   "cell_type": "code",
   "execution_count": 4,
   "metadata": {
    "collapsed": true
   },
   "outputs": [],
   "source": [
    "from sklearn.metrics import r2_score\n",
    "from sklearn.linear_model import LinearRegression"
   ]
  },
  {
   "cell_type": "code",
   "execution_count": 7,
   "metadata": {
    "collapsed": false
   },
   "outputs": [
    {
     "data": {
      "text/plain": [
       "[(21.800000000000001, 20.283856774137274),\n",
       " (13.4, 14.777675472459332),\n",
       " (20.800000000000001, 22.962021122558077),\n",
       " (18.399999999999999, 15.479956962629293),\n",
       " (22.100000000000001, 26.691166038239018),\n",
       " (22.600000000000001, 24.016717445400786),\n",
       " (13.800000000000001, 0.51664356705289194),\n",
       " (50.0, 40.348642096877384),\n",
       " (20.899999999999999, 22.308369648590308),\n",
       " (19.899999999999999, 18.324104022785974),\n",
       " (41.299999999999997, 32.446044732617388),\n",
       " (15.0, 18.998108331294553),\n",
       " (24.300000000000001, 20.390681393223488),\n",
       " (16.699999999999999, 19.08435243005389),\n",
       " (13.800000000000001, 15.629494367312034),\n",
       " (25.0, 27.927438152890794),\n",
       " (21.699999999999999, 22.331224573826994),\n",
       " (9.5999999999999996, 14.585604488601147),\n",
       " (22.899999999999999, 28.78659869602971),\n",
       " (11.800000000000001, 8.6899630632773999),\n",
       " (21.0, 23.153840111374404),\n",
       " (33.299999999999997, 36.088149885247759),\n",
       " (21.399999999999999, 22.42800550480289),\n",
       " (8.6999999999999993, 8.9763826486413834),\n",
       " (11.9, 7.808843730575731),\n",
       " (23.199999999999999, 16.612909316941881),\n",
       " (21.899999999999999, 24.518850925090952),\n",
       " (24.699999999999999, 22.989603777516187),\n",
       " (21.699999999999999, 22.523749614831715),\n",
       " (22.0, 26.05217907208927),\n",
       " (13.1, 19.561060450873917),\n",
       " (19.600000000000001, 17.777595700305305),\n",
       " (20.399999999999999, 19.882138066292018),\n",
       " (23.100000000000001, 22.616521760570834),\n",
       " (17.100000000000001, 20.274966494499786),\n",
       " (17.100000000000001, 18.945846850646181),\n",
       " (19.800000000000001, 22.24974755117638),\n",
       " (19.899999999999999, 19.262394468218798),\n",
       " (25.0, 23.015673005112586),\n",
       " (19.199999999999999, 23.130883384248591),\n",
       " (18.399999999999999, 19.654969717379664),\n",
       " (23.100000000000001, 24.895238910822158),\n",
       " (18.699999999999999, 20.131444206502582),\n",
       " (27.100000000000001, 27.184035935515897),\n",
       " (10.4, 16.209376843982888),\n",
       " (8.8000000000000007, 8.0871896227216045),\n",
       " (24.300000000000001, 28.281278372969624),\n",
       " (27.5, 24.240078706857677),\n",
       " (8.3000000000000007, 9.9984489269379697),\n",
       " (30.5, 30.1415275063328),\n",
       " (22.199999999999999, 25.807251247477037),\n",
       " (17.5, 16.840266618421797),\n",
       " (50.0, 39.224135829385453),\n",
       " (8.3000000000000007, 12.866046427239343),\n",
       " (11.699999999999999, 14.343749124687664),\n",
       " (19.100000000000001, 16.088406433306368),\n",
       " (19.399999999999999, 23.036030888166451),\n",
       " (33.200000000000003, 31.940190514192796),\n",
       " (25.0, 22.038068905310322),\n",
       " (44.799999999999997, 37.811127874652392),\n",
       " (21.199999999999999, 21.012954355562655),\n",
       " (7.2000000000000002, 7.7269864980339129),\n",
       " (27.5, 19.331825135399729),\n",
       " (20.100000000000001, 14.90684120982111),\n",
       " (20.600000000000001, 22.529003983005239),\n",
       " (24.800000000000001, 26.176606169186886),\n",
       " (24.5, 20.400658708881156),\n",
       " (48.299999999999997, 36.73487222689117),\n",
       " (21.699999999999999, 23.705503684760817),\n",
       " (25.0, 27.564192152190834),\n",
       " (7.2000000000000002, 17.253142367251247),\n",
       " (21.699999999999999, 20.953161586825797),\n",
       " (26.5, 25.271512606649885),\n",
       " (25.300000000000001, 25.474879055980388),\n",
       " (21.399999999999999, 19.70591501414814),\n",
       " (22.899999999999999, 21.024358270149726),\n",
       " (31.5, 32.406998559430569),\n",
       " (31.199999999999999, 28.728737639214661),\n",
       " (36.100000000000001, 33.276068241212293),\n",
       " (23.800000000000001, 25.292650215639362),\n",
       " (11.9, 22.361353751956827),\n",
       " (21.699999999999999, 21.800660112747416),\n",
       " (20.0, 22.303073824933499),\n",
       " (13.1, 14.443983676083054),\n",
       " (7.4000000000000004, 5.5412726617480601),\n",
       " (12.300000000000001, 12.385764024689683),\n",
       " (14.199999999999999, 17.518154875407763),\n",
       " (24.5, 28.118165650181069),\n",
       " (22.5, 29.284258213696191),\n",
       " (24.5, 21.587549069562186),\n",
       " (14.4, 3.7777777015294092),\n",
       " (50.0, 41.213253738686646),\n",
       " (32.0, 33.748897728193946),\n",
       " (25.0, 25.204768362866101),\n",
       " (34.899999999999999, 34.522124278706769),\n",
       " (13.300000000000001, 19.433345703055011),\n",
       " (19.899999999999999, 17.294470533168941),\n",
       " (23.800000000000001, 22.706257433278811),\n",
       " (14.6, 18.453970235889333),\n",
       " (50.0, 24.021266764585896),\n",
       " (18.5, 19.529120105972726),\n",
       " (11.800000000000001, 12.670006138632314),\n",
       " (35.100000000000001, 35.137493948253052),\n",
       " (20.5, 24.180399146913484),\n",
       " (23.0, 29.628583849801178),\n",
       " (33.799999999999997, 34.462667859382421),\n",
       " (22.199999999999999, 24.286477209119361),\n",
       " (33.399999999999999, 28.845715970687174),\n",
       " (50.0, 45.062165391427499),\n",
       " (13.6, 12.683778469969994),\n",
       " (12.699999999999999, 12.518961100730408),\n",
       " (9.6999999999999993, 9.4131217494610304),\n",
       " (32.0, 32.916686612264705),\n",
       " (20.0, 22.482377947808558),\n",
       " (19.100000000000001, 16.540311719051751),\n",
       " (21.199999999999999, 20.965910237341962),\n",
       " (14.6, 8.4898447540748485),\n",
       " (50.0, 22.787586265474221),\n",
       " (21.699999999999999, 20.441105080069295),\n",
       " (29.800000000000001, 32.052912868412299),\n",
       " (23.5, 30.506703776059531),\n",
       " (22.5, 17.863494510603452),\n",
       " (14.300000000000001, 13.759771274275042),\n",
       " (10.5, 12.616459134877104),\n",
       " (8.0999999999999996, 2.8282694252240894),\n",
       " (36.399999999999999, 32.7426084521056),\n",
       " (17.5, 18.18892243895997)]"
      ]
     },
     "execution_count": 7,
     "metadata": {},
     "output_type": "execute_result"
    }
   ],
   "source": [
    "zip (y_test, clf.predict(X_test))"
   ]
  },
  {
   "cell_type": "code",
   "execution_count": 8,
   "metadata": {
    "collapsed": true
   },
   "outputs": [],
   "source": [
    "from sklearn.datasets import load_boston"
   ]
  },
  {
   "cell_type": "code",
   "execution_count": 9,
   "metadata": {
    "collapsed": true
   },
   "outputs": [],
   "source": [
    "boston=load_boston()"
   ]
  },
  {
   "cell_type": "code",
   "execution_count": 10,
   "metadata": {
    "collapsed": true
   },
   "outputs": [],
   "source": [
    "X, Y=boston.data, boston.target"
   ]
  },
  {
   "cell_type": "code",
   "execution_count": 11,
   "metadata": {
    "collapsed": true
   },
   "outputs": [],
   "source": [
    "n_samples, n_features=X.shape"
   ]
  },
  {
   "cell_type": "code",
   "execution_count": 12,
   "metadata": {
    "collapsed": false
   },
   "outputs": [
    {
     "name": "stdout",
     "output_type": "stream",
     "text": [
      "(506, 13)\n"
     ]
    }
   ],
   "source": [
    "print (n_samples, n_features)"
   ]
  },
  {
   "cell_type": "code",
   "execution_count": 6,
   "metadata": {
    "collapsed": true
   },
   "outputs": [],
   "source": [
    "from sklearn.linear_model import Lasso\n",
    "from sklearn import linear_model\n",
    "from sklearn.metrics import mean_squared_error"
   ]
  },
  {
   "cell_type": "code",
   "execution_count": 14,
   "metadata": {
    "collapsed": true
   },
   "outputs": [],
   "source": [
    "from sklearn.linear_model import LinearRegression\n",
    "model = LinearRegression()"
   ]
  },
  {
   "cell_type": "code",
   "execution_count": 15,
   "metadata": {
    "collapsed": false
   },
   "outputs": [
    {
     "data": {
      "text/plain": [
       "LinearRegression(copy_X=True, fit_intercept=True, n_jobs=1, normalize=False)"
      ]
     },
     "execution_count": 15,
     "metadata": {},
     "output_type": "execute_result"
    }
   ],
   "source": [
    "model.fit(X, Y)"
   ]
  },
  {
   "cell_type": "code",
   "execution_count": 16,
   "metadata": {
    "collapsed": false
   },
   "outputs": [
    {
     "name": "stdout",
     "output_type": "stream",
     "text": [
      "36.4911032804\n"
     ]
    }
   ],
   "source": [
    "print (model.intercept_)"
   ]
  },
  {
   "cell_type": "code",
   "execution_count": 18,
   "metadata": {
    "collapsed": true
   },
   "outputs": [],
   "source": [
    "from sklearn.metrics import mean_squared_error\n",
    "mse= mean_squared_error(Y, model.predict(X))"
   ]
  },
  {
   "cell_type": "code",
   "execution_count": 19,
   "metadata": {
    "collapsed": false
   },
   "outputs": [
    {
     "name": "stdout",
     "output_type": "stream",
     "text": [
      "mean squared error): 21.9\n"
     ]
    }
   ],
   "source": [
    "print(\"mean squared error): {:.3}\".format(mse))"
   ]
  },
  {
   "cell_type": "code",
   "execution_count": 21,
   "metadata": {
    "collapsed": false
   },
   "outputs": [
    {
     "name": "stdout",
     "output_type": "stream",
     "text": [
      "rmse: 4.68\n"
     ]
    }
   ],
   "source": [
    "rmse = np.sqrt(mse)\n",
    "print (\"rmse: {:.3}\".format(rmse))"
   ]
  },
  {
   "cell_type": "code",
   "execution_count": 22,
   "metadata": {
    "collapsed": false
   },
   "outputs": [
    {
     "data": {
      "text/plain": [
       "LinearRegression(copy_X=True, fit_intercept=True, n_jobs=1, normalize=False)"
      ]
     },
     "execution_count": 22,
     "metadata": {},
     "output_type": "execute_result"
    }
   ],
   "source": [
    "model.fit(X[::2], Y[::2])"
   ]
  },
  {
   "cell_type": "code",
   "execution_count": 5,
   "metadata": {
    "collapsed": true
   },
   "outputs": [],
   "source": [
    "from sklearn.preprocessing import StandardScaler\n",
    "from sklearn.cross_validation import train_test_split"
   ]
  },
  {
   "cell_type": "code",
   "execution_count": 25,
   "metadata": {
    "collapsed": false
   },
   "outputs": [
    {
     "data": {
      "text/plain": [
       "Lasso(alpha=0.1, copy_X=True, fit_intercept=True, max_iter=1000,\n",
       "   normalize=False, positive=False, precompute=False, random_state=None,\n",
       "   selection='cyclic', tol=0.0001, warm_start=False)"
      ]
     },
     "execution_count": 25,
     "metadata": {},
     "output_type": "execute_result"
    }
   ],
   "source": [
    "model=Lasso(alpha=0.1)\n",
    "model.fit(X, Y)"
   ]
  },
  {
   "cell_type": "code",
   "execution_count": 26,
   "metadata": {
    "collapsed": false
   },
   "outputs": [
    {
     "name": "stdout",
     "output_type": "stream",
     "text": [
      "25.5847704285\n"
     ]
    }
   ],
   "source": [
    "print(model.intercept_)"
   ]
  },
  {
   "cell_type": "code",
   "execution_count": 28,
   "metadata": {
    "collapsed": true
   },
   "outputs": [],
   "source": [
    "mse= mean_squared_error(Y, model.predict(X))"
   ]
  },
  {
   "cell_type": "code",
   "execution_count": 40,
   "metadata": {
    "collapsed": false
   },
   "outputs": [
    {
     "name": "stdout",
     "output_type": "stream",
     "text": [
      "mean squared error: 23.0537403949\n"
     ]
    }
   ],
   "source": [
    "print(\"mean squared error: {:.12}\".format(mse))"
   ]
  },
  {
   "cell_type": "code",
   "execution_count": null,
   "metadata": {
    "collapsed": true
   },
   "outputs": [],
   "source": []
  }
 ],
 "metadata": {
  "kernelspec": {
   "display_name": "Python 2",
   "language": "python",
   "name": "python2"
  },
  "language_info": {
   "codemirror_mode": {
    "name": "ipython",
    "version": 2
   },
   "file_extension": ".py",
   "mimetype": "text/x-python",
   "name": "python",
   "nbconvert_exporter": "python",
   "pygments_lexer": "ipython2",
   "version": "2.7.10"
  }
 },
 "nbformat": 4,
 "nbformat_minor": 0
}
